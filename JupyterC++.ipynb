{
 "cells": [
  {
   "cell_type": "markdown",
   "metadata": {},
   "source": [
    "<center>\n",
    "        <h1>C++ en Jupyter Notebook</h1>\n",
    "<center>"
   ]
  },
  {
   "cell_type": "markdown",
   "metadata": {},
   "source": [
    "En este notebook quiero explicar paso a paso como instalar las herramientas necesarias para poder utilizar un kernel de C++ para Jupyter Notebook"
   ]
  },
  {
   "cell_type": "markdown",
   "metadata": {},
   "source": [
    "<center>\n",
    "    <a title=\"Xues-Cling\" href=\"https://github.com/jupyter-xeus/xeus-cling\">\n",
    "        <img src=\"https://raw.githubusercontent.com/jupyter-xeus/xeus-cling/master/docs/source/xeus-cling.svg?sanitize=true\"/ width=\"250\" height=\"250\">\n",
    "    </a>\n",
    "</center>"
   ]
  },
  {
   "cell_type": "markdown",
   "metadata": {},
   "source": [
    "<code>xeus-cling</code> es un Kernel Jupyter para C++ basado en el intérprete <a href=\"https://github.com/root-project/cling\">cling</a> y la implementacion nativa del protocolo de Jupyter <a href=\"https://github.com/jupyter-xeus/xeus\">xeus</a>"
   ]
  },
  {
   "cell_type": "markdown",
   "metadata": {},
   "source": [
    "<h1>Instalación</h1>"
   ]
  },
  {
   "cell_type": "markdown",
   "metadata": {},
   "source": [
    "<p>La instalación se realiza utilizando conda. En particular, se recomienda el uso de <a href=\"https://conda.io/miniconda.html\">miniconda</a> para evitar errores.</p>\n",
    "<p>También es recomendable crear un ambiente virtual con conda para que la instalación se realice de manera correcta.</p>\n",
    "<p>A continuación dejaré capturas para guiarnos por estos pasos:</p>\n"
   ]
  },
  {
   "cell_type": "markdown",
   "metadata": {},
   "source": [
    "<center>\n",
    "    <p>1. Creamos un ambiente virtual con el siguiente comando:<code>conda create -n xeus-cling</code></p>\n",
    "    <figure>\n",
    "      <img src=\"http://drive.google.com/uc?export=view&id=1gP18yH-AxUpi_c1uuMZo0bx1gMqLsGs-\" width=\"700\" height=\"700\">\n",
    "    </figure>\n",
    "</center>"
   ]
  },
  {
   "cell_type": "markdown",
   "metadata": {},
   "source": [
    "<center>\n",
    "    <p>2. Activamos nuestro ambiente virtual con el siguiente comando:<code>conda activate xeus-cling</code></p>\n",
    "    <figure>\n",
    "      <img src=\"http://drive.google.com/uc?export=view&id=1bV5WXQPPF_BFKoot0RCyncbKanprgrLl\" width=\"700\" height=\"700\">\n",
    "    </figure>\n",
    "</center>"
   ]
  },
  {
   "cell_type": "markdown",
   "metadata": {},
   "source": [
    "<center>\n",
    "    <p>3. Procedemos a instalar el kernel con el siguiente comando:<code>conda install -c conda-forge xeus-cling</code></p>\n",
    "    <figure>\n",
    "      <img src=\"http://drive.google.com/uc?export=view&id=15ibLimEowFQii0o9GRvSoedppV2fb4nB\" width=\"700\" height=\"700\">\n",
    "    </figure>\n",
    "</center>"
   ]
  },
  {
   "cell_type": "markdown",
   "metadata": {},
   "source": [
    "<center>\n",
    "    <p>4. Confirmamos la instalación de los módulos escribiendo simplemente:<code>y</code></p>\n",
    "    <figure>\n",
    "      <img src=\"http://drive.google.com/uc?export=view&id=1dwFJUrI5r12E1JOKAfLPSXRNj02nZ7ml\" width=\"700\" height=\"700\">\n",
    "    </figure>\n",
    "</center>"
   ]
  },
  {
   "cell_type": "markdown",
   "metadata": {},
   "source": [
    "<center>\n",
    "    <p>5. Como trabajamos en un ambiente virtual debemos instalar Jupyter Lab en este ambiente</p>    \n",
    "    <p>Utilizamos entonces el siguiente comando:<code>conda install -c conda-forge jupyterlab</code></p>\n",
    "    <figure>\n",
    "      <img src=\"http://drive.google.com/uc?export=view&id=1eCWXc4E73oeFLv2K9M2Ohd9iGxBjcqUq\" width=\"700\" height=\"700\">\n",
    "    </figure>\n",
    "</center>"
   ]
  },
  {
   "cell_type": "markdown",
   "metadata": {},
   "source": [
    "<center>\n",
    "    <p>6. Confirmamos la instalación de los módulos escribiendo simplemente:<code>y</code></p>\n",
    "    <figure>\n",
    "      <img src=\"http://drive.google.com/uc?export=view&id=1PqCflSCtqtzm5FWpwqyAjPwJa3VJnhWo\" width=\"700\" height=\"700\">\n",
    "    </figure>\n",
    "</center>"
   ]
  },
  {
   "cell_type": "markdown",
   "metadata": {},
   "source": [
    "<center>\n",
    "    <p>7. Para concluir simplemente ejecutamos Jupyter Lab utilizando el comando:<code>jupyter lab</code></p>\n",
    "    <figure>\n",
    "      <img src=\"http://drive.google.com/uc?export=view&id=1h0ot5taH-X3x9G6xVGFDYsYG2P8E2dLM\" width=\"700\" height=\"700\">\n",
    "    </figure>\n",
    "</center>"
   ]
  },
  {
   "cell_type": "markdown",
   "metadata": {},
   "source": [
    "<center>\n",
    "    <h4>Si todo salió bien al terminar nuestro resultado será el siguiente:</h4>\n",
    "    <figure>\n",
    "      <img src=\"http://drive.google.com/uc?export=view&id=16xHttf7VSv6mnrH7SBzKvekatBb_lQmh\" width=\"1000\" height=\"1000\">\n",
    "    </figure>\n",
    "</center>"
   ]
  },
  {
   "cell_type": "code",
   "execution_count": null,
   "metadata": {},
   "outputs": [],
   "source": []
  }
 ],
 "metadata": {
  "kernelspec": {
   "display_name": "C++14",
   "language": "C++14",
   "name": "xcpp14"
  },
  "language_info": {
   "codemirror_mode": "text/x-c++src",
   "file_extension": ".cpp",
   "mimetype": "text/x-c++src",
   "name": "c++",
   "version": "14"
  }
 },
 "nbformat": 4,
 "nbformat_minor": 4
}
